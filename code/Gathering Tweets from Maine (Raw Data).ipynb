{
 "cells": [
  {
   "cell_type": "code",
   "execution_count": 1,
   "metadata": {},
   "outputs": [],
   "source": [
    "import GetOldTweets3 as got\n",
    "import pandas as pd"
   ]
  },
  {
   "cell_type": "code",
   "execution_count": 2,
   "metadata": {},
   "outputs": [],
   "source": [
    "tweets = got.manager.TweetCriteria()\\\n",
    "    .setQuerySearch(\"'power outage' OR 'power' OR 'outage' OR 'blackout'  OR 'blackout' OR 'lights off' OR 'flashlight' -filter:retweets\")\\\n",
    "    .setSince('2017-09-01')\\\n",
    "    .setUntil('2019-09-02')\\\n",
    "    .setMaxTweets(50_000)\\\n",
    "    .setNear(\"Butte, Maine\")\\\n",
    "    .setWithin(\"30km\")"
   ]
  },
  {
   "cell_type": "code",
   "execution_count": null,
   "metadata": {},
   "outputs": [],
   "source": [
    "tweets_collected = got.manager.TweetManager.getTweets(tweets)"
   ]
  },
  {
   "cell_type": "code",
   "execution_count": null,
   "metadata": {},
   "outputs": [],
   "source": [
    "len(tweets_collected)"
   ]
  },
  {
   "cell_type": "code",
   "execution_count": null,
   "metadata": {},
   "outputs": [],
   "source": [
    "tweet_id, username, text, date, hashtags = list(), list(), list(), list(), list()\n",
    "for tweet in tweets_collected:\n",
    "    tweet_id.append(tweet.id)\n",
    "    username.append(tweet.username)\n",
    "    text.append(tweet.text)\n",
    "    date.append(tweet.date)\n",
    "    hashtags.append(tweet.hashtags)"
   ]
  },
  {
   "cell_type": "code",
   "execution_count": null,
   "metadata": {},
   "outputs": [],
   "source": [
    "tweet_data = pd.DataFrame({\"tweet_id\": tweet_id,\n",
    "                         \"username\": username,\n",
    "                         \"text\": text ,\n",
    "                         \"date\": date,\n",
    "                         \"hashtag\": hashtags})"
   ]
  },
  {
   "cell_type": "code",
   "execution_count": null,
   "metadata": {},
   "outputs": [],
   "source": [
    "tweet_data"
   ]
  },
  {
   "cell_type": "code",
   "execution_count": null,
   "metadata": {},
   "outputs": [],
   "source": [
    "tweet_data.to_csv(\"../datasets/raw_data/Butte_maine_tweets_raw.csv\")"
   ]
  }
 ],
 "metadata": {
  "kernelspec": {
   "display_name": "Python 3",
   "language": "python",
   "name": "python3"
  },
  "language_info": {
   "codemirror_mode": {
    "name": "ipython",
    "version": 3
   },
   "file_extension": ".py",
   "mimetype": "text/x-python",
   "name": "python",
   "nbconvert_exporter": "python",
   "pygments_lexer": "ipython3",
   "version": "3.7.3"
  },
  "toc": {
   "base_numbering": 1,
   "nav_menu": {},
   "number_sections": true,
   "sideBar": true,
   "skip_h1_title": false,
   "title_cell": "Table of Contents",
   "title_sidebar": "Contents",
   "toc_cell": false,
   "toc_position": {},
   "toc_section_display": true,
   "toc_window_display": false
  }
 },
 "nbformat": 4,
 "nbformat_minor": 2
}
