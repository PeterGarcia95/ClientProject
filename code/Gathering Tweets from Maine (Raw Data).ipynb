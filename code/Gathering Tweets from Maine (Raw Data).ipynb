{
 "cells": [
  {
   "cell_type": "code",
   "execution_count": 10,
   "metadata": {},
   "outputs": [],
   "source": [
    "import GetOldTweets3 as got\n",
    "import pandas as pd"
   ]
  },
  {
   "cell_type": "code",
   "execution_count": 11,
   "metadata": {},
   "outputs": [],
   "source": [
    "tweets = got.manager.TweetCriteria()\\\n",
    "    .setQuerySearch(\"'blackout' OR 'blackouts' OR 'outage' OR 'outages' OR 'power outage' OR 'pwr out' OR 'no pwr' OR 'no power' -filter:retweets\")\\\n",
    "                                           .setSince(\"2018-01-01\")\\\n",
    "                                           .setUntil(\"2019-09-02\")\\\n",
    "                                           .setNear(\"Florida\")\\\n",
    "                                           .setWithin(\"30km\")"
   ]
  },
  {
   "cell_type": "code",
   "execution_count": 12,
   "metadata": {},
   "outputs": [],
   "source": [
    "tweets_collected = got.manager.TweetManager.getTweets(tweets)"
   ]
  },
  {
   "cell_type": "code",
   "execution_count": 13,
   "metadata": {},
   "outputs": [
    {
     "data": {
      "text/plain": [
       "0"
      ]
     },
     "execution_count": 13,
     "metadata": {},
     "output_type": "execute_result"
    }
   ],
   "source": [
    "len(tweets_collected)"
   ]
  },
  {
   "cell_type": "code",
   "execution_count": null,
   "metadata": {},
   "outputs": [],
   "source": [
    "tweet_id, username, text, date, hashtags = list(), list(), list(), list(), list()\n",
    "for tweet in tweets_collected:\n",
    "    tweet_id.append(tweet.id)\n",
    "    username.append(tweet.username)\n",
    "    text.append(tweet.text)\n",
    "    date.append(tweet.date)\n",
    "    hashtags.append(tweet.hashtags)"
   ]
  },
  {
   "cell_type": "code",
   "execution_count": null,
   "metadata": {},
   "outputs": [],
   "source": [
    "tweet_data = pd.DataFrame({\"tweet_id\": tweet_id,\n",
    "                         \"username\": username,\n",
    "                         \"text\": text ,\n",
    "                         \"date\": date,\n",
    "                         \"hashtag\": hashtags})"
   ]
  },
  {
   "cell_type": "code",
   "execution_count": null,
   "metadata": {},
   "outputs": [],
   "source": [
    "tweet_data"
   ]
  },
  {
   "cell_type": "code",
   "execution_count": null,
   "metadata": {},
   "outputs": [],
   "source": [
    "tweet_data.to_csv(\"../datasets/raw_data/Butte_maine_tweets_raw.csv\")"
   ]
  }
 ],
 "metadata": {
  "kernelspec": {
   "display_name": "Python 3",
   "language": "python",
   "name": "python3"
  },
  "language_info": {
   "codemirror_mode": {
    "name": "ipython",
    "version": 3
   },
   "file_extension": ".py",
   "mimetype": "text/x-python",
   "name": "python",
   "nbconvert_exporter": "python",
   "pygments_lexer": "ipython3",
   "version": "3.7.3"
  },
  "toc": {
   "base_numbering": 1,
   "nav_menu": {},
   "number_sections": true,
   "sideBar": true,
   "skip_h1_title": false,
   "title_cell": "Table of Contents",
   "title_sidebar": "Contents",
   "toc_cell": false,
   "toc_position": {},
   "toc_section_display": true,
   "toc_window_display": false
  }
 },
 "nbformat": 4,
 "nbformat_minor": 2
}
