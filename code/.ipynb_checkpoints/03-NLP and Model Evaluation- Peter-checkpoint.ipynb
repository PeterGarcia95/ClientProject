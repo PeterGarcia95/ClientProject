{
 "cells": [
  {
   "cell_type": "markdown",
   "metadata": {},
   "source": [
    "# Imports"
   ]
  },
  {
   "cell_type": "code",
   "execution_count": 1,
   "metadata": {},
   "outputs": [],
   "source": [
    "import pandas as pd\n",
    "from nltk.tokenize                   import RegexpTokenizer\n",
    "from bs4                             import BeautifulSoup  \n",
    "from nltk.corpus                     import stopwords\n",
    "from sklearn.linear_model            import LogisticRegression\n",
    "from sklearn.feature_extraction.text import CountVectorizer,TfidfVectorizer\n",
    "from sklearn.pipeline                import Pipeline,FeatureUnion\n",
    "from sklearn.model_selection         import cross_val_score, train_test_split, GridSearchCV\n",
    "from sklearn.metrics                 import confusion_matrix,classification_report\n",
    "import warnings\n",
    "\n",
    "warnings.filterwarnings(\"ignore\")"
   ]
  },
  {
   "cell_type": "code",
   "execution_count": 2,
   "metadata": {},
   "outputs": [
    {
     "data": {
      "text/html": [
       "<div>\n",
       "<style scoped>\n",
       "    .dataframe tbody tr th:only-of-type {\n",
       "        vertical-align: middle;\n",
       "    }\n",
       "\n",
       "    .dataframe tbody tr th {\n",
       "        vertical-align: top;\n",
       "    }\n",
       "\n",
       "    .dataframe thead th {\n",
       "        text-align: right;\n",
       "    }\n",
       "</style>\n",
       "<table border=\"1\" class=\"dataframe\">\n",
       "  <thead>\n",
       "    <tr style=\"text-align: right;\">\n",
       "      <th></th>\n",
       "      <th>username</th>\n",
       "      <th>text</th>\n",
       "      <th>date</th>\n",
       "      <th>clean_text</th>\n",
       "      <th>target</th>\n",
       "      <th>lat</th>\n",
       "      <th>long</th>\n",
       "    </tr>\n",
       "  </thead>\n",
       "  <tbody>\n",
       "    <tr>\n",
       "      <td>0</td>\n",
       "      <td>Jeremy Hill</td>\n",
       "      <td>There is no more efficient way to find out if ...</td>\n",
       "      <td>2017-11-01</td>\n",
       "      <td>efficient way find food freezer still good thr...</td>\n",
       "      <td>1</td>\n",
       "      <td>42.351035</td>\n",
       "      <td>-71.092772</td>\n",
       "    </tr>\n",
       "    <tr>\n",
       "      <td>1</td>\n",
       "      <td>Jeremy Hill</td>\n",
       "      <td>There is no more efficient way to find out if ...</td>\n",
       "      <td>2017-11-01</td>\n",
       "      <td>efficient way find food freezer still good thr...</td>\n",
       "      <td>1</td>\n",
       "      <td>42.375944</td>\n",
       "      <td>-71.188823</td>\n",
       "    </tr>\n",
       "    <tr>\n",
       "      <td>2</td>\n",
       "      <td>Aimee MacTavish</td>\n",
       "      <td>@SkyHelpTeam any ETA on broadband outage in No...</td>\n",
       "      <td>2017-11-01</td>\n",
       "      <td>skyhelpteam eta broadband outage north glasgow...</td>\n",
       "      <td>1</td>\n",
       "      <td>42.361009</td>\n",
       "      <td>-71.030593</td>\n",
       "    </tr>\n",
       "    <tr>\n",
       "      <td>3</td>\n",
       "      <td>Joe Sexton</td>\n",
       "      <td>@Ask_Spectrum Hope Game 7 doesn't go as long a...</td>\n",
       "      <td>2017-11-01</td>\n",
       "      <td>ask spectrum hope game 7 go long game 5 since ...</td>\n",
       "      <td>1</td>\n",
       "      <td>42.332771</td>\n",
       "      <td>-71.025189</td>\n",
       "    </tr>\n",
       "    <tr>\n",
       "      <td>4</td>\n",
       "      <td>Lori</td>\n",
       "      <td>literally no idea how i'm going to replace all...</td>\n",
       "      <td>2017-11-01</td>\n",
       "      <td>literally idea going replace food lost power o...</td>\n",
       "      <td>1</td>\n",
       "      <td>42.348956</td>\n",
       "      <td>-71.071420</td>\n",
       "    </tr>\n",
       "    <tr>\n",
       "      <td>...</td>\n",
       "      <td>...</td>\n",
       "      <td>...</td>\n",
       "      <td>...</td>\n",
       "      <td>...</td>\n",
       "      <td>...</td>\n",
       "      <td>...</td>\n",
       "      <td>...</td>\n",
       "    </tr>\n",
       "    <tr>\n",
       "      <td>507</td>\n",
       "      <td>Randall Asato</td>\n",
       "      <td>Power outage. No work being done on rail in my...</td>\n",
       "      <td>2014-11-16</td>\n",
       "      <td>power outage work done rail area crew working ...</td>\n",
       "      <td>0</td>\n",
       "      <td>42.300257</td>\n",
       "      <td>-71.137675</td>\n",
       "    </tr>\n",
       "    <tr>\n",
       "      <td>508</td>\n",
       "      <td>Tom Smit</td>\n",
       "      <td>Awesome timing for a Comcast outage. No, I don...</td>\n",
       "      <td>2017-02-09</td>\n",
       "      <td>awesome timing comcast outage need work worry</td>\n",
       "      <td>0</td>\n",
       "      <td>42.341933</td>\n",
       "      <td>-71.121040</td>\n",
       "    </tr>\n",
       "    <tr>\n",
       "      <td>509</td>\n",
       "      <td>❁Adilene Barrera❁</td>\n",
       "      <td>“@Susie92M: This power outage is making work b...</td>\n",
       "      <td>2014-12-30</td>\n",
       "      <td>susie92m power outage making work better custo...</td>\n",
       "      <td>0</td>\n",
       "      <td>42.297527</td>\n",
       "      <td>-71.115262</td>\n",
       "    </tr>\n",
       "    <tr>\n",
       "      <td>510</td>\n",
       "      <td>Sharron Gimik</td>\n",
       "      <td>Ok, Dte sends an automated call that the power...</td>\n",
       "      <td>2014-11-25</td>\n",
       "      <td>ok dte sends automated call power outage map u...</td>\n",
       "      <td>0</td>\n",
       "      <td>42.381501</td>\n",
       "      <td>-71.062283</td>\n",
       "    </tr>\n",
       "    <tr>\n",
       "      <td>511</td>\n",
       "      <td>WOOD TV8</td>\n",
       "      <td>Hoppin Elementary (Three Rivers Community Scho...</td>\n",
       "      <td>2017-03-08</td>\n",
       "      <td>hoppin elementary three rivers community schoo...</td>\n",
       "      <td>0</td>\n",
       "      <td>42.340965</td>\n",
       "      <td>-71.069929</td>\n",
       "    </tr>\n",
       "  </tbody>\n",
       "</table>\n",
       "<p>512 rows × 7 columns</p>\n",
       "</div>"
      ],
      "text/plain": [
       "              username                                               text  \\\n",
       "0          Jeremy Hill  There is no more efficient way to find out if ...   \n",
       "1          Jeremy Hill  There is no more efficient way to find out if ...   \n",
       "2      Aimee MacTavish  @SkyHelpTeam any ETA on broadband outage in No...   \n",
       "3           Joe Sexton  @Ask_Spectrum Hope Game 7 doesn't go as long a...   \n",
       "4                 Lori  literally no idea how i'm going to replace all...   \n",
       "..                 ...                                                ...   \n",
       "507      Randall Asato  Power outage. No work being done on rail in my...   \n",
       "508           Tom Smit  Awesome timing for a Comcast outage. No, I don...   \n",
       "509  ❁Adilene Barrera❁  “@Susie92M: This power outage is making work b...   \n",
       "510      Sharron Gimik  Ok, Dte sends an automated call that the power...   \n",
       "511           WOOD TV8  Hoppin Elementary (Three Rivers Community Scho...   \n",
       "\n",
       "           date                                         clean_text  target  \\\n",
       "0    2017-11-01  efficient way find food freezer still good thr...       1   \n",
       "1    2017-11-01  efficient way find food freezer still good thr...       1   \n",
       "2    2017-11-01  skyhelpteam eta broadband outage north glasgow...       1   \n",
       "3    2017-11-01  ask spectrum hope game 7 go long game 5 since ...       1   \n",
       "4    2017-11-01  literally idea going replace food lost power o...       1   \n",
       "..          ...                                                ...     ...   \n",
       "507  2014-11-16  power outage work done rail area crew working ...       0   \n",
       "508  2017-02-09      awesome timing comcast outage need work worry       0   \n",
       "509  2014-12-30  susie92m power outage making work better custo...       0   \n",
       "510  2014-11-25  ok dte sends automated call power outage map u...       0   \n",
       "511  2017-03-08  hoppin elementary three rivers community schoo...       0   \n",
       "\n",
       "           lat       long  \n",
       "0    42.351035 -71.092772  \n",
       "1    42.375944 -71.188823  \n",
       "2    42.361009 -71.030593  \n",
       "3    42.332771 -71.025189  \n",
       "4    42.348956 -71.071420  \n",
       "..         ...        ...  \n",
       "507  42.300257 -71.137675  \n",
       "508  42.341933 -71.121040  \n",
       "509  42.297527 -71.115262  \n",
       "510  42.381501 -71.062283  \n",
       "511  42.340965 -71.069929  \n",
       "\n",
       "[512 rows x 7 columns]"
      ]
     },
     "execution_count": 2,
     "metadata": {},
     "output_type": "execute_result"
    }
   ],
   "source": [
    "df = pd.read_csv('../datasets/clean_tweets.csv')\n",
    "df"
   ]
  },
  {
   "cell_type": "markdown",
   "metadata": {},
   "source": [
    "# PreProcessing"
   ]
  },
  {
   "cell_type": "code",
   "execution_count": 3,
   "metadata": {},
   "outputs": [
    {
     "data": {
      "text/plain": [
       "username      0\n",
       "text          0\n",
       "date          0\n",
       "clean_text    0\n",
       "target        0\n",
       "lat           0\n",
       "long          0\n",
       "dtype: int64"
      ]
     },
     "execution_count": 3,
     "metadata": {},
     "output_type": "execute_result"
    }
   ],
   "source": [
    "df.isnull().sum()"
   ]
  },
  {
   "cell_type": "code",
   "execution_count": 4,
   "metadata": {},
   "outputs": [],
   "source": [
    "df.dropna(how='any',inplace=True)"
   ]
  },
  {
   "cell_type": "code",
   "execution_count": 5,
   "metadata": {},
   "outputs": [
    {
     "data": {
      "text/plain": [
       "username      0\n",
       "text          0\n",
       "date          0\n",
       "clean_text    0\n",
       "target        0\n",
       "lat           0\n",
       "long          0\n",
       "dtype: int64"
      ]
     },
     "execution_count": 5,
     "metadata": {},
     "output_type": "execute_result"
    }
   ],
   "source": [
    "df.isnull().sum()"
   ]
  },
  {
   "cell_type": "code",
   "execution_count": 6,
   "metadata": {},
   "outputs": [
    {
     "data": {
      "text/plain": [
       "(512, 7)"
      ]
     },
     "execution_count": 6,
     "metadata": {},
     "output_type": "execute_result"
    }
   ],
   "source": [
    "df.shape"
   ]
  },
  {
   "cell_type": "code",
   "execution_count": 7,
   "metadata": {},
   "outputs": [],
   "source": [
    "X = df['clean_text']\n",
    "y = df['target']\n",
    "\n",
    "X_train, X_test, y_train, y_test = train_test_split(X, y, random_state = 42, test_size = 0.3, stratify = y)"
   ]
  },
  {
   "cell_type": "code",
   "execution_count": 8,
   "metadata": {},
   "outputs": [],
   "source": [
    "#Keep a vectorized DF for the records\n",
    "cvec = CountVectorizer(max_df= 0.9,min_df=0.0012,ngram_range=(1,1))\n",
    "cvec.fit(X_train)\n",
    "DF = cvec.transform(X_train)\n",
    "DF = pd.DataFrame(DF.toarray(),\n",
    "                          columns=cvec.get_feature_names())"
   ]
  },
  {
   "cell_type": "code",
   "execution_count": 9,
   "metadata": {},
   "outputs": [
    {
     "data": {
      "text/plain": [
       "(358, 2019)"
      ]
     },
     "execution_count": 9,
     "metadata": {},
     "output_type": "execute_result"
    }
   ],
   "source": [
    "DF.shape"
   ]
  },
  {
   "cell_type": "code",
   "execution_count": 10,
   "metadata": {},
   "outputs": [],
   "source": [
    "DF.to_csv('../datasets/countvec_words.csv')"
   ]
  },
  {
   "cell_type": "markdown",
   "metadata": {},
   "source": [
    "# Model Set Up"
   ]
  },
  {
   "cell_type": "code",
   "execution_count": 11,
   "metadata": {},
   "outputs": [
    {
     "data": {
      "text/plain": [
       "Pipeline(memory=None,\n",
       "         steps=[('vectorizer',\n",
       "                 CountVectorizer(analyzer='word', binary=False,\n",
       "                                 decode_error='strict',\n",
       "                                 dtype=<class 'numpy.int64'>, encoding='utf-8',\n",
       "                                 input='content', lowercase=True, max_df=0.9,\n",
       "                                 max_features=None, min_df=0.0012,\n",
       "                                 ngram_range=(1, 1), preprocessor=None,\n",
       "                                 stop_words=None, strip_accents=None,\n",
       "                                 token_pattern='(?u)\\\\b\\\\w\\\\w+\\\\b',\n",
       "                                 tokenizer=None, vocabulary=None)),\n",
       "                ('model',\n",
       "                 LogisticRegression(C=0.1, class_weight=None, dual=False,\n",
       "                                    fit_intercept=True, intercept_scaling=1,\n",
       "                                    l1_ratio=None, max_iter=50,\n",
       "                                    multi_class='warn', n_jobs=None,\n",
       "                                    penalty='l1', random_state=None,\n",
       "                                    solver='warn', tol=0.0001, verbose=0,\n",
       "                                    warm_start=False))],\n",
       "         verbose=False)"
      ]
     },
     "execution_count": 11,
     "metadata": {},
     "output_type": "execute_result"
    }
   ],
   "source": [
    "# Define Pipeline\n",
    "pipe = Pipeline(steps = [('vectorizer', CountVectorizer()),     # first tuple is for first step: vectorizer\n",
    "                         ('model', LogisticRegression())        # second tuple is for second step: model\n",
    "                        ])    \n",
    "\n",
    "# Construct Grid Parameters\n",
    "hyperparams = {'vectorizer__ngram_range': [(1,1), (2,2), (1,2)],\n",
    "               'vectorizer__max_df': [0.9, 0.8, 1],\n",
    "               'vectorizer__min_df':[0.0012],\n",
    "\n",
    "               'model__penalty': ['l1', 'l2'],\n",
    "               'model__C': [0.1, 1, 3, 10],\n",
    "               'model__max_iter':[50,100,150]\n",
    "            \n",
    "              }\n",
    "\n",
    " # Perform Grid Search\n",
    "gs = GridSearchCV(pipe, # pipeline object replaces what we usually had as empty model class\n",
    "                 param_grid=hyperparams,\n",
    "                 cv = 3,\n",
    "                 scoring = 'accuracy')\n",
    "results = gs.fit(X_train, y_train)\n",
    "\n",
    "# Get best params\n",
    "results.best_estimator_"
   ]
  },
  {
   "cell_type": "code",
   "execution_count": 12,
   "metadata": {
    "scrolled": true
   },
   "outputs": [
    {
     "name": "stdout",
     "output_type": "stream",
     "text": [
      "Best TRAIN accuracy: 0.9777\n",
      "Best TEST set accuracy: 0.9740\n"
     ]
    },
    {
     "data": {
      "text/plain": [
       "{'model__C': 0.1,\n",
       " 'model__max_iter': 50,\n",
       " 'model__penalty': 'l1',\n",
       " 'vectorizer__max_df': 0.9,\n",
       " 'vectorizer__min_df': 0.0012,\n",
       " 'vectorizer__ngram_range': (1, 1)}"
      ]
     },
     "execution_count": 12,
     "metadata": {},
     "output_type": "execute_result"
    }
   ],
   "source": [
    "vectorizer_params = results.best_estimator_.steps[0][1].get_params()\n",
    "model_params = results.best_estimator_.steps[1][1].get_params()\n",
    "\n",
    "# Get score\n",
    "train_score = results.best_score_\n",
    "print('Best TRAIN accuracy: {:.4f}'.format(train_score))\n",
    "test_score = results.score(X_test, y_test)\n",
    "print('Best TEST set accuracy: {:.4f}'.format(test_score))\n",
    "results.best_params_"
   ]
  },
  {
   "cell_type": "code",
   "execution_count": 13,
   "metadata": {},
   "outputs": [],
   "source": [
    "pipe = Pipeline(steps = [('cv', CountVectorizer(max_df= 0.9,min_df=0.001,ngram_range=(1,1))),\n",
    "                         ('model', LogisticRegression(C=0.1,max_iter=50,penalty='l1')),     \n",
    "                        ])    "
   ]
  },
  {
   "cell_type": "markdown",
   "metadata": {},
   "source": [
    "# Model Evaluation"
   ]
  },
  {
   "cell_type": "code",
   "execution_count": 14,
   "metadata": {},
   "outputs": [],
   "source": [
    "#Get predictions and probabilities\n",
    "results = pipe.fit(X_train, y_train);\n",
    "pred=pipe.predict(X_test)\n",
    "pred_proba=pipe.predict_proba(X_test)"
   ]
  },
  {
   "cell_type": "code",
   "execution_count": 15,
   "metadata": {},
   "outputs": [],
   "source": [
    "#Confusion Matrix\n",
    "cm=confusion_matrix(y_test, pred)"
   ]
  },
  {
   "cell_type": "code",
   "execution_count": 16,
   "metadata": {},
   "outputs": [],
   "source": [
    "import matplotlib.pyplot as plt\n",
    "import seaborn as sns\n",
    "ax= plt.subplot()\n",
    "sns.heatmap(cm, annot=True, ax = ax, fmt=\".1f\", cmap='YlOrBr', cbar=False); \n",
    "# labels, title and ticks\n",
    "ax.set_xlabel('Predicted labels');\n",
    "ax.set_ylabel('True labels'); \n",
    "ax.set_title('Confusion Matrix'); \n",
    "ax.xaxis.set_ticklabels(['No Power Outage', 'Power Outage']); ax.yaxis.set_ticklabels(['No Power Outage', 'Power Outage']);"
   ]
  },
  {
   "cell_type": "code",
   "execution_count": 17,
   "metadata": {},
   "outputs": [
    {
     "name": "stdout",
     "output_type": "stream",
     "text": [
      "              precision    recall  f1-score   support\n",
      "\n",
      "           0       0.97      1.00      0.99       150\n",
      "           1       0.00      0.00      0.00         4\n",
      "\n",
      "    accuracy                           0.97       154\n",
      "   macro avg       0.49      0.50      0.49       154\n",
      "weighted avg       0.95      0.97      0.96       154\n",
      "\n"
     ]
    }
   ],
   "source": [
    "#Classification Report\n",
    "from sklearn.metrics import classification_report\n",
    "thresh = .7\n",
    "print(classification_report(y_test, pred_proba[:, 1]>thresh))"
   ]
  },
  {
   "cell_type": "code",
   "execution_count": 18,
   "metadata": {},
   "outputs": [
    {
     "name": "stdout",
     "output_type": "stream",
     "text": [
      "No Skill: ROC AUC=0.500\n",
      "Logistic: ROC AUC=0.720\n"
     ]
    },
    {
     "data": {
      "image/png": "[encoded data removed]",
      "text/plain": [
       "<Figure size 432x288 with 1 Axes>"
      ]
     },
     "metadata": {
      "needs_background": "light"
     },
     "output_type": "display_data"
    }
   ],
   "source": [
    "#ROC Curve\n",
    "from sklearn.metrics import roc_curve\n",
    "from sklearn.metrics import roc_auc_score\n",
    "\n",
    "ns_probs = [0 for _ in range(len(y_test))]\n",
    "\n",
    "pipe_probs = pipe.predict_proba(X_test)\n",
    "pipe_probs = pipe_probs[:, 1]\n",
    "ns_auc = roc_auc_score(y_test, ns_probs)\n",
    "pipe_auc = roc_auc_score(y_test, pipe_probs)\n",
    "\n",
    "# summarize scores\n",
    "print('No Skill: ROC AUC=%.3f' % (ns_auc))\n",
    "print('Logistic: ROC AUC=%.3f' % (pipe_auc))\n",
    "\n",
    "# calculate roc curves\n",
    "ns_fpr, ns_tpr, _ = roc_curve(y_test, ns_probs)\n",
    "pipe_fpr, pipe_tpr, _ = roc_curve(y_test, pipe_probs)\n",
    "\n",
    "# plot the roc curve for the model\n",
    "plt.plot(ns_fpr, ns_tpr, linestyle='--', label='Base')\n",
    "plt.plot(pipe_fpr, pipe_tpr, marker='.', label='LR')\n",
    "\n",
    "# axis labels\n",
    "plt.xlabel('False Positive Rate')\n",
    "plt.ylabel('True Positive Rate')\n",
    "\n",
    "# show the legend\n",
    "plt.legend()\n",
    "plt.title('ROC/AUC')\n",
    "\n",
    "# show the plot\n",
    "plt.show()"
   ]
  },
  {
   "cell_type": "code",
   "execution_count": 19,
   "metadata": {},
   "outputs": [],
   "source": [
    "#Saving predictions\n",
    "pred_train=pd.DataFrame(pipe.predict(X_train))\n",
    "pred_train['origin']='train'\n",
    "pred_test=pd.DataFrame(pipe.predict(X_test))\n",
    "pred_test['origin']='test'"
   ]
  },
  {
   "cell_type": "code",
   "execution_count": 20,
   "metadata": {},
   "outputs": [],
   "source": [
    "pred_test['index'] = pred_test.index"
   ]
  },
  {
   "cell_type": "code",
   "execution_count": 21,
   "metadata": {},
   "outputs": [],
   "source": [
    "pred_test.to_csv('../datasets/preds_index.csv', index = False)"
   ]
  },
  {
   "cell_type": "code",
   "execution_count": 22,
   "metadata": {},
   "outputs": [],
   "source": [
    "all_preds=pd.concat([pred_train,pred_test], axis=0,ignore_index=True)"
   ]
  },
  {
   "cell_type": "code",
   "execution_count": 23,
   "metadata": {},
   "outputs": [],
   "source": [
    "all_preds.rename(columns={0:'preds','origin':'origin'},inplace=True)"
   ]
  },
  {
   "cell_type": "code",
   "execution_count": 24,
   "metadata": {},
   "outputs": [],
   "source": [
    "pd.concat([df,all_preds]);"
   ]
  },
  {
   "cell_type": "code",
   "execution_count": 25,
   "metadata": {},
   "outputs": [],
   "source": [
    "df.to_csv('../datasets/tweets_and_preds.csv', index = False)"
   ]
  }
 ],
 "metadata": {
  "kernelspec": {
   "display_name": "Python 3",
   "language": "python",
   "name": "python3"
  },
  "language_info": {
   "codemirror_mode": {
    "name": "ipython",
    "version": 3
   },
   "file_extension": ".py",
   "mimetype": "text/x-python",
   "name": "python",
   "nbconvert_exporter": "python",
   "pygments_lexer": "ipython3",
   "version": "3.7.3"
  },
  "toc": {
   "base_numbering": 1,
   "nav_menu": {},
   "number_sections": true,
   "sideBar": true,
   "skip_h1_title": false,
   "title_cell": "Table of Contents",
   "title_sidebar": "Contents",
   "toc_cell": false,
   "toc_position": {},
   "toc_section_display": true,
   "toc_window_display": false
  }
 },
 "nbformat": 4,
 "nbformat_minor": 2
}
