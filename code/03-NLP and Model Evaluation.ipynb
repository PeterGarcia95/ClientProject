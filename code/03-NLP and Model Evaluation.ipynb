{
 "cells": [
  {
   "cell_type": "code",
<<<<<<< HEAD
   "execution_count": 157,
=======
   "execution_count": 1,
>>>>>>> 7169477a181d994d223213dd5cb5f9a9ca78f1cc
   "metadata": {},
   "outputs": [],
   "source": [
    "import pandas as pd\n",
<<<<<<< HEAD
=======
    "import warnings\n",
>>>>>>> 7169477a181d994d223213dd5cb5f9a9ca78f1cc
    "from nltk.stem                       import WordNetLemmatizer\n",
    "from nltk.tokenize                   import RegexpTokenizer\n",
    "from bs4                             import BeautifulSoup  \n",
    "from nltk.corpus                     import stopwords\n",
<<<<<<< HEAD
=======
    "from sklearn.linear_model            import LogisticRegression\n",
>>>>>>> 7169477a181d994d223213dd5cb5f9a9ca78f1cc
    "from sklearn.feature_extraction.text import CountVectorizer,TfidfVectorizer\n",
    "from sklearn.pipeline                import Pipeline,FeatureUnion\n",
    "from sklearn.model_selection         import cross_val_score, train_test_split, GridSearchCV\n",
    "from sklearn.metrics                 import confusion_matrix,classification_report"
   ]
  },
  {
   "cell_type": "code",
<<<<<<< HEAD
   "execution_count": 158,
   "metadata": {},
   "outputs": [],
   "source": [
    "df=pd.read_csv('./clean_tweets.csv').drop(columns='Unnamed: 0')"
=======
   "execution_count": 2,
   "metadata": {},
   "outputs": [],
   "source": [
    "df=pd.read_csv('../datasets/clean_tweets.csv').drop(columns='Unnamed: 0')"
>>>>>>> 7169477a181d994d223213dd5cb5f9a9ca78f1cc
   ]
  },
  {
   "cell_type": "code",
<<<<<<< HEAD
   "execution_count": 159,
=======
   "execution_count": 3,
>>>>>>> 7169477a181d994d223213dd5cb5f9a9ca78f1cc
   "metadata": {},
   "outputs": [
    {
     "data": {
      "text/plain": [
       "username        0\n",
       "text            0\n",
       "label           0\n",
       "dates           0\n",
       "clean_text    230\n",
       "target          0\n",
       "lat             0\n",
       "long            0\n",
       "dtype: int64"
      ]
     },
<<<<<<< HEAD
     "execution_count": 159,
=======
     "execution_count": 3,
>>>>>>> 7169477a181d994d223213dd5cb5f9a9ca78f1cc
     "metadata": {},
     "output_type": "execute_result"
    }
   ],
   "source": [
    "df.isnull().sum()"
   ]
  },
  {
   "cell_type": "code",
<<<<<<< HEAD
   "execution_count": 160,
=======
   "execution_count": 4,
>>>>>>> 7169477a181d994d223213dd5cb5f9a9ca78f1cc
   "metadata": {},
   "outputs": [],
   "source": [
    "df.dropna(how='any',inplace=True)"
   ]
  },
  {
   "cell_type": "code",
<<<<<<< HEAD
   "execution_count": 161,
=======
   "execution_count": 5,
>>>>>>> 7169477a181d994d223213dd5cb5f9a9ca78f1cc
   "metadata": {},
   "outputs": [
    {
     "data": {
      "text/html": [
       "<div>\n",
       "<style scoped>\n",
       "    .dataframe tbody tr th:only-of-type {\n",
       "        vertical-align: middle;\n",
       "    }\n",
       "\n",
       "    .dataframe tbody tr th {\n",
       "        vertical-align: top;\n",
       "    }\n",
       "\n",
       "    .dataframe thead th {\n",
       "        text-align: right;\n",
       "    }\n",
       "</style>\n",
       "<table border=\"1\" class=\"dataframe\">\n",
       "  <thead>\n",
       "    <tr style=\"text-align: right;\">\n",
       "      <th></th>\n",
       "      <th>username</th>\n",
       "      <th>text</th>\n",
       "      <th>label</th>\n",
       "      <th>dates</th>\n",
       "      <th>clean_text</th>\n",
       "      <th>target</th>\n",
       "      <th>lat</th>\n",
       "      <th>long</th>\n",
       "    </tr>\n",
       "  </thead>\n",
       "  <tbody>\n",
       "    <tr>\n",
       "      <td>0</td>\n",
       "      <td>Amithridya1001</td>\n",
       "      <td>No update or action on supply issue at near 2 ...</td>\n",
       "      <td>outage</td>\n",
       "      <td>2019-07-23</td>\n",
       "      <td>update action supply issue near still even cus...</td>\n",
       "      <td>1</td>\n",
       "      <td>42.351035</td>\n",
       "      <td>-71.323284</td>\n",
       "    </tr>\n",
       "    <tr>\n",
       "      <td>1</td>\n",
       "      <td>ellensweeps</td>\n",
       "      <td>I live in what is considered the largest conce...</td>\n",
       "      <td>outage</td>\n",
       "      <td>2019-07-23</td>\n",
       "      <td>live considered largest concentrated outage ma...</td>\n",
       "      <td>1</td>\n",
       "      <td>42.375944</td>\n",
       "      <td>-71.767229</td>\n",
       "    </tr>\n",
       "    <tr>\n",
       "      <td>2</td>\n",
       "      <td>CoxHelp</td>\n",
       "      <td>No, there is not an outage and your modem is r...</td>\n",
       "      <td>outage</td>\n",
       "      <td>2019-07-23</td>\n",
       "      <td>outage modem receiving signal us reset modem f...</td>\n",
       "      <td>1</td>\n",
       "      <td>42.361009</td>\n",
       "      <td>-71.490488</td>\n",
       "    </tr>\n",
       "    <tr>\n",
       "      <td>3</td>\n",
       "      <td>Steven_McKie</td>\n",
       "      <td>No big deal @Xfinity I didn’t have to work tod...</td>\n",
       "      <td>outage</td>\n",
       "      <td>2019-07-23</td>\n",
       "      <td>big deal xfinity work today anything outage ni...</td>\n",
       "      <td>1</td>\n",
       "      <td>42.332771</td>\n",
       "      <td>-71.387141</td>\n",
       "    </tr>\n",
       "    <tr>\n",
       "      <td>4</td>\n",
       "      <td>Larapic</td>\n",
       "      <td>So we filled the Adpt with post-its today and ...</td>\n",
       "      <td>outage</td>\n",
       "      <td>2019-07-23</td>\n",
       "      <td>filled adpt post today second outage ended dis...</td>\n",
       "      <td>1</td>\n",
       "      <td>42.348956</td>\n",
       "      <td>-70.991783</td>\n",
       "    </tr>\n",
       "  </tbody>\n",
       "</table>\n",
       "</div>"
      ],
      "text/plain": [
       "         username                                               text   label  \\\n",
       "0  Amithridya1001  No update or action on supply issue at near 2 ...  outage   \n",
       "1     ellensweeps  I live in what is considered the largest conce...  outage   \n",
       "2         CoxHelp  No, there is not an outage and your modem is r...  outage   \n",
       "3    Steven_McKie  No big deal @Xfinity I didn’t have to work tod...  outage   \n",
       "4         Larapic  So we filled the Adpt with post-its today and ...  outage   \n",
       "\n",
       "        dates                                         clean_text  target  \\\n",
       "0  2019-07-23  update action supply issue near still even cus...       1   \n",
       "1  2019-07-23  live considered largest concentrated outage ma...       1   \n",
       "2  2019-07-23  outage modem receiving signal us reset modem f...       1   \n",
       "3  2019-07-23  big deal xfinity work today anything outage ni...       1   \n",
       "4  2019-07-23  filled adpt post today second outage ended dis...       1   \n",
       "\n",
       "         lat       long  \n",
       "0  42.351035 -71.323284  \n",
       "1  42.375944 -71.767229  \n",
       "2  42.361009 -71.490488  \n",
       "3  42.332771 -71.387141  \n",
       "4  42.348956 -70.991783  "
      ]
     },
<<<<<<< HEAD
     "execution_count": 161,
=======
     "execution_count": 5,
>>>>>>> 7169477a181d994d223213dd5cb5f9a9ca78f1cc
     "metadata": {},
     "output_type": "execute_result"
    }
   ],
   "source": [
    "df.head()"
   ]
  },
  {
   "cell_type": "code",
<<<<<<< HEAD
   "execution_count": 162,
=======
   "execution_count": 6,
>>>>>>> 7169477a181d994d223213dd5cb5f9a9ca78f1cc
   "metadata": {},
   "outputs": [],
   "source": [
    "X = df['clean_text']\n",
    "y=df['target']\n",
    "\n",
    "X_train, X_test, y_train, y_test = train_test_split(X, y, random_state = 42, test_size = 0.3, stratify = y)"
   ]
  },
  {
   "cell_type": "code",
<<<<<<< HEAD
   "execution_count": 163,
   "metadata": {},
   "outputs": [],
   "source": [
    "#Keep a vectorized DF\n",
    "cvec = CountVectorizer(max_df= 0.9,min_df=0.0012,ngram_range=(1,1))\n",
    "cvec.fit(X_train)\n",
    "DF = cvec.transform(X_train)\n",
    "DF = pd.DataFrame(DF.toarray(),\n",
    "                          columns=cvec.get_feature_names())"
   ]
  },
  {
   "cell_type": "code",
   "execution_count": 164,
   "metadata": {},
   "outputs": [
    {
     "data": {
      "text/plain": [
       "(882, 1185)"
      ]
     },
     "execution_count": 164,
     "metadata": {},
     "output_type": "execute_result"
    }
   ],
   "source": [
    "DF.shape"
   ]
  },
  {
   "cell_type": "code",
   "execution_count": 165,
   "metadata": {},
   "outputs": [],
   "source": [
    "DF.to_csv('./countvec_words.csv')"
   ]
  },
  {
   "cell_type": "code",
   "execution_count": 166,
   "metadata": {},
   "outputs": [
    {
     "name": "stderr",
     "output_type": "stream",
     "text": [
      "/anaconda3/lib/python3.6/site-packages/sklearn/linear_model/logistic.py:433: FutureWarning: Default solver will be changed to 'lbfgs' in 0.22. Specify a solver to silence this warning.\n",
      "  FutureWarning)\n",
      "/anaconda3/lib/python3.6/site-packages/sklearn/svm/base.py:931: ConvergenceWarning: Liblinear failed to converge, increase the number of iterations.\n",
      "  \"the number of iterations.\", ConvergenceWarning)\n",
      "/anaconda3/lib/python3.6/site-packages/sklearn/svm/base.py:931: ConvergenceWarning: Liblinear failed to converge, increase the number of iterations.\n",
      "  \"the number of iterations.\", ConvergenceWarning)\n",
      "/anaconda3/lib/python3.6/site-packages/sklearn/svm/base.py:931: ConvergenceWarning: Liblinear failed to converge, increase the number of iterations.\n",
      "  \"the number of iterations.\", ConvergenceWarning)\n",
      "/anaconda3/lib/python3.6/site-packages/sklearn/svm/base.py:931: ConvergenceWarning: Liblinear failed to converge, increase the number of iterations.\n",
      "  \"the number of iterations.\", ConvergenceWarning)\n",
      "/anaconda3/lib/python3.6/site-packages/sklearn/svm/base.py:931: ConvergenceWarning: Liblinear failed to converge, increase the number of iterations.\n",
      "  \"the number of iterations.\", ConvergenceWarning)\n",
      "/anaconda3/lib/python3.6/site-packages/sklearn/svm/base.py:931: ConvergenceWarning: Liblinear failed to converge, increase the number of iterations.\n",
      "  \"the number of iterations.\", ConvergenceWarning)\n",
      "/anaconda3/lib/python3.6/site-packages/sklearn/svm/base.py:931: ConvergenceWarning: Liblinear failed to converge, increase the number of iterations.\n",
      "  \"the number of iterations.\", ConvergenceWarning)\n",
      "/anaconda3/lib/python3.6/site-packages/sklearn/svm/base.py:931: ConvergenceWarning: Liblinear failed to converge, increase the number of iterations.\n",
      "  \"the number of iterations.\", ConvergenceWarning)\n",
      "/anaconda3/lib/python3.6/site-packages/sklearn/svm/base.py:931: ConvergenceWarning: Liblinear failed to converge, increase the number of iterations.\n",
      "  \"the number of iterations.\", ConvergenceWarning)\n",
      "/anaconda3/lib/python3.6/site-packages/sklearn/svm/base.py:931: ConvergenceWarning: Liblinear failed to converge, increase the number of iterations.\n",
      "  \"the number of iterations.\", ConvergenceWarning)\n"
     ]
    },
    {
     "data": {
      "text/plain": [
       "Pipeline(memory=None,\n",
       "     steps=[('vectorizer', CountVectorizer(analyzer='word', binary=False, decode_error='strict',\n",
       "        dtype=<class 'numpy.int64'>, encoding='utf-8', input='content',\n",
       "        lowercase=True, max_df=0.9, max_features=None, min_df=0.0012,\n",
       "        ngram_range=(1, 1), preprocessor=None, stop_words=None,\n",
       "  ...penalty='l1', random_state=None, solver='warn',\n",
       "          tol=0.0001, verbose=0, warm_start=False))])"
      ]
     },
     "execution_count": 166,
     "metadata": {},
     "output_type": "execute_result"
    }
   ],
   "source": [
=======
   "execution_count": null,
   "metadata": {},
   "outputs": [],
   "source": [
    "# all warnings in this cell pertain to the solver used in LogisticRegression()\n",
    "# warning us about a potential change in future versions of sklearn\n",
    "warnings.filterwarnings('ignore')\n",
    "\n",
>>>>>>> 7169477a181d994d223213dd5cb5f9a9ca78f1cc
    "# Define Pipeline\n",
    "pipe = Pipeline(steps = [('vectorizer', CountVectorizer()),     # first tuple is for first step: vectorizer\n",
    "                         ('model', LogisticRegression())        # second tuple is for second step: model\n",
    "                        ])    \n",
    "\n",
    "# Construct Grid Parameters\n",
    "hyperparams = {'vectorizer__ngram_range': [(1,1), (2,2), (1,2)],\n",
    "               'vectorizer__max_df': [0.9, 0.8, 1],\n",
<<<<<<< HEAD
    "               'vectorizer__min_df':[0.0012],\n",
=======
    "               'vectorizer__min_df':[0.001],\n",
>>>>>>> 7169477a181d994d223213dd5cb5f9a9ca78f1cc
    "\n",
    "               'model__penalty': ['l1', 'l2'],\n",
    "               'model__C': [0.1, 1, 3, 10],\n",
    "               'model__max_iter':[50,100,150]\n",
    "            \n",
    "              }\n",
    "\n",
    " # Perform Grid Search\n",
    "gs = GridSearchCV(pipe, # pipeline object replaces what we usually had as empty model class\n",
    "                 param_grid=hyperparams,\n",
    "                 cv = 3,\n",
    "                 scoring = 'accuracy')\n",
    "results = gs.fit(X_train, y_train)\n",
    "\n",
    "# Get best params\n",
<<<<<<< HEAD
    "results.best_estimator_"
=======
    "results.best_estimator_\n",
    "\n",
    "# Turn warnings back on\n",
    "warnings.filterwarnings('default')"
>>>>>>> 7169477a181d994d223213dd5cb5f9a9ca78f1cc
   ]
  },
  {
   "cell_type": "code",
<<<<<<< HEAD
   "execution_count": 167,
   "metadata": {},
   "outputs": [
    {
     "name": "stdout",
     "output_type": "stream",
     "text": [
      "Best TRAIN accuracy: 0.8458\n",
      "Best TEST set accuracy: 0.8391\n"
     ]
    },
    {
     "data": {
      "text/plain": [
       "{'model__C': 0.1,\n",
       " 'model__max_iter': 50,\n",
       " 'model__penalty': 'l1',\n",
       " 'vectorizer__max_df': 0.9,\n",
       " 'vectorizer__min_df': 0.0012,\n",
       " 'vectorizer__ngram_range': (1, 1)}"
      ]
     },
     "execution_count": 167,
     "metadata": {},
     "output_type": "execute_result"
    }
   ],
=======
   "execution_count": null,
   "metadata": {},
   "outputs": [],
>>>>>>> 7169477a181d994d223213dd5cb5f9a9ca78f1cc
   "source": [
    "vectorizer_params = results.best_estimator_.steps[0][1].get_params()\n",
    "model_params = results.best_estimator_.steps[1][1].get_params()\n",
    "\n",
    "# Get score\n",
    "train_score = results.best_score_\n",
    "print('Best TRAIN accuracy: {:.4f}'.format(train_score))\n",
    "test_score = results.score(X_test, y_test)\n",
    "print('Best TEST set accuracy: {:.4f}'.format(test_score))\n",
    "results.best_params_"
   ]
  },
  {
   "cell_type": "code",
<<<<<<< HEAD
   "execution_count": 168,
=======
   "execution_count": null,
>>>>>>> 7169477a181d994d223213dd5cb5f9a9ca78f1cc
   "metadata": {},
   "outputs": [],
   "source": [
    "pipe = Pipeline(steps = [('cv', CountVectorizer(max_df= 0.9,min_df=0.001,ngram_range=(1,1))),\n",
    "                         ('model', LogisticRegression(C=0.1,max_iter=50,penalty='l1')),     \n",
    "                        ])    "
   ]
  },
  {
   "cell_type": "code",
<<<<<<< HEAD
   "execution_count": 169,
   "metadata": {},
   "outputs": [
    {
     "name": "stderr",
     "output_type": "stream",
     "text": [
      "/anaconda3/lib/python3.6/site-packages/sklearn/linear_model/logistic.py:433: FutureWarning: Default solver will be changed to 'lbfgs' in 0.22. Specify a solver to silence this warning.\n",
      "  FutureWarning)\n"
     ]
    }
   ],
=======
   "execution_count": null,
   "metadata": {},
   "outputs": [],
>>>>>>> 7169477a181d994d223213dd5cb5f9a9ca78f1cc
   "source": [
    "results = pipe.fit(X_train, y_train);\n",
    "pred=pipe.predict(X_test)\n",
    "pred_proba=pipe.predict_proba(X_test)"
   ]
  },
  {
   "cell_type": "code",
<<<<<<< HEAD
   "execution_count": 170,
=======
   "execution_count": null,
>>>>>>> 7169477a181d994d223213dd5cb5f9a9ca78f1cc
   "metadata": {},
   "outputs": [],
   "source": [
    "cm=confusion_matrix(y_test, pred)"
   ]
  },
  {
   "cell_type": "code",
<<<<<<< HEAD
   "execution_count": 171,
   "metadata": {},
   "outputs": [
    {
     "data": {
      "image/png": "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\n",
      "text/plain": [
       "<Figure size 432x288 with 1 Axes>"
      ]
     },
     "metadata": {},
     "output_type": "display_data"
    }
   ],
=======
   "execution_count": null,
   "metadata": {},
   "outputs": [],
>>>>>>> 7169477a181d994d223213dd5cb5f9a9ca78f1cc
   "source": [
    "import matplotlib.pyplot as plt\n",
    "import seaborn as sns\n",
    "ax= plt.subplot()\n",
    "sns.heatmap(cm, annot=True, ax = ax, fmt=\".1f\", cmap='Greys', cbar=False); \n",
    "# labels, title and ticks\n",
    "ax.set_xlabel('Predicted labels');\n",
    "ax.set_ylabel('True labels'); \n",
    "ax.set_title('Confusion Matrix'); \n",
<<<<<<< HEAD
    "ax.xaxis.set_ticklabels(['No Power Outage', 'Power Outage']); ax.yaxis.set_ticklabels(['No Power Outage', 'Power Outage']);"
=======
    "ax.xaxis.set_ticklabels(['<=50K', '>50K']); ax.yaxis.set_ticklabels(['<=50K', '>50K']);"
>>>>>>> 7169477a181d994d223213dd5cb5f9a9ca78f1cc
   ]
  },
  {
   "cell_type": "code",
<<<<<<< HEAD
   "execution_count": 174,
   "metadata": {},
   "outputs": [
    {
     "name": "stdout",
     "output_type": "stream",
     "text": [
      "              precision    recall  f1-score   support\n",
      "\n",
      "           0       0.69      0.92      0.79       231\n",
      "           1       0.74      0.34      0.47       148\n",
      "\n",
      "   micro avg       0.70      0.70      0.70       379\n",
      "   macro avg       0.71      0.63      0.63       379\n",
      "weighted avg       0.71      0.70      0.66       379\n",
      "\n"
     ]
    }
   ],
   "source": [
    "from sklearn.metrics import classification_report\n",
    "thresh = .7\n",
=======
   "execution_count": null,
   "metadata": {},
   "outputs": [],
   "source": [
    "from sklearn.metrics import classification_report\n",
    "thresh = .5\n",
>>>>>>> 7169477a181d994d223213dd5cb5f9a9ca78f1cc
    "print(classification_report(y_test, pred_proba[:, 1]>thresh))"
   ]
  },
  {
   "cell_type": "code",
<<<<<<< HEAD
   "execution_count": 173,
   "metadata": {},
   "outputs": [
    {
     "name": "stdout",
     "output_type": "stream",
     "text": [
      "No Skill: ROC AUC=0.500\n",
      "Logistic: ROC AUC=0.876\n"
     ]
    },
    {
     "data": {
      "image/png": "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\n",
      "text/plain": [
       "<Figure size 432x288 with 1 Axes>"
      ]
     },
     "metadata": {},
     "output_type": "display_data"
    }
   ],
=======
   "execution_count": null,
   "metadata": {},
   "outputs": [],
>>>>>>> 7169477a181d994d223213dd5cb5f9a9ca78f1cc
   "source": [
    "from sklearn.metrics import roc_curve\n",
    "from sklearn.metrics import roc_auc_score\n",
    "\n",
    "ns_probs = [0 for _ in range(len(y_test))]\n",
    "\n",
    "pipe_probs = pipe.predict_proba(X_test)\n",
    "pipe_probs = pipe_probs[:, 1]\n",
    "ns_auc = roc_auc_score(y_test, ns_probs)\n",
    "pipe_auc = roc_auc_score(y_test, pipe_probs)\n",
    "\n",
    "# summarize scores\n",
    "print('No Skill: ROC AUC=%.3f' % (ns_auc))\n",
    "print('Logistic: ROC AUC=%.3f' % (pipe_auc))\n",
    "\n",
    "# calculate roc curves\n",
    "ns_fpr, ns_tpr, _ = roc_curve(y_test, ns_probs)\n",
    "pipe_fpr, pipe_tpr, _ = roc_curve(y_test, pipe_probs)\n",
    "\n",
    "# plot the roc curve for the model\n",
<<<<<<< HEAD
    "plt.plot(ns_fpr, ns_tpr, linestyle='--', label='Base')\n",
    "plt.plot(pipe_fpr, pipe_tpr, marker='.', label='LR')\n",
=======
    "plt.plot(ns_fpr, ns_tpr, linestyle='--', label='No Skill')\n",
    "plt.plot(pipe_fpr, pipe_tpr, marker='.', label='Logistic')\n",
>>>>>>> 7169477a181d994d223213dd5cb5f9a9ca78f1cc
    "\n",
    "# axis labels\n",
    "plt.xlabel('False Positive Rate')\n",
    "plt.ylabel('True Positive Rate')\n",
    "\n",
    "# show the legend\n",
    "plt.legend()\n",
    "\n",
    "# show the plot\n",
    "plt.show()"
   ]
<<<<<<< HEAD
  },
  {
   "cell_type": "code",
   "execution_count": null,
   "metadata": {},
   "outputs": [],
   "source": []
  },
  {
   "cell_type": "code",
   "execution_count": null,
   "metadata": {},
   "outputs": [],
   "source": []
=======
>>>>>>> 7169477a181d994d223213dd5cb5f9a9ca78f1cc
  }
 ],
 "metadata": {
  "kernelspec": {
   "display_name": "Python 3",
   "language": "python",
   "name": "python3"
  },
  "language_info": {
   "codemirror_mode": {
    "name": "ipython",
    "version": 3
   },
   "file_extension": ".py",
   "mimetype": "text/x-python",
   "name": "python",
   "nbconvert_exporter": "python",
   "pygments_lexer": "ipython3",
<<<<<<< HEAD
   "version": "3.6.5"
=======
   "version": "3.7.3"
>>>>>>> 7169477a181d994d223213dd5cb5f9a9ca78f1cc
  },
  "toc": {
   "base_numbering": 1,
   "nav_menu": {},
   "number_sections": true,
   "sideBar": true,
   "skip_h1_title": false,
   "title_cell": "Table of Contents",
   "title_sidebar": "Contents",
   "toc_cell": false,
   "toc_position": {},
   "toc_section_display": true,
   "toc_window_display": false
  }
 },
 "nbformat": 4,
 "nbformat_minor": 2
}
