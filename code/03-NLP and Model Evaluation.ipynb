{
 "cells": [
  {
   "cell_type": "markdown",
   "metadata": {},
   "source": [
    "# Imports"
   ]
  },
  {
   "cell_type": "code",
   "execution_count": 1,
   "metadata": {},
   "outputs": [],
   "source": [
    "import pandas as pd\n",
    "from nltk.tokenize                   import RegexpTokenizer\n",
    "from bs4                             import BeautifulSoup  \n",
    "from nltk.corpus                     import stopwords\n",
    "from sklearn.linear_model            import LogisticRegression\n",
    "from sklearn.feature_extraction.text import CountVectorizer,TfidfVectorizer\n",
    "from sklearn.pipeline                import Pipeline,FeatureUnion\n",
    "from sklearn.model_selection         import cross_val_score, train_test_split, GridSearchCV\n",
    "from sklearn.metrics                 import confusion_matrix,classification_report\n",
    "import warnings\n",
    "\n",
    "warnings.filterwarnings(\"ignore\")"
   ]
  },
  {
   "cell_type": "code",
   "execution_count": 30,
   "metadata": {},
   "outputs": [
    {
     "data": {
      "text/html": [
       "<div>\n",
       "<style scoped>\n",
       "    .dataframe tbody tr th:only-of-type {\n",
       "        vertical-align: middle;\n",
       "    }\n",
       "\n",
       "    .dataframe tbody tr th {\n",
       "        vertical-align: top;\n",
       "    }\n",
       "\n",
       "    .dataframe thead th {\n",
       "        text-align: right;\n",
       "    }\n",
       "</style>\n",
       "<table border=\"1\" class=\"dataframe\">\n",
       "  <thead>\n",
       "    <tr style=\"text-align: right;\">\n",
       "      <th></th>\n",
       "      <th>username</th>\n",
       "      <th>text</th>\n",
       "      <th>date</th>\n",
       "      <th>clean_text</th>\n",
       "      <th>target</th>\n",
       "      <th>lat</th>\n",
       "      <th>long</th>\n",
       "    </tr>\n",
       "  </thead>\n",
       "  <tbody>\n",
       "    <tr>\n",
       "      <td>0</td>\n",
       "      <td>Waldemar Gonzalez</td>\n",
       "      <td>No work for a week due to power outage, trip t...</td>\n",
       "      <td>2018-03-05</td>\n",
       "      <td>work week due power outage trip miami sounds l...</td>\n",
       "      <td>1</td>\n",
       "      <td>42.351035</td>\n",
       "      <td>-71.098957</td>\n",
       "    </tr>\n",
       "    <tr>\n",
       "      <td>1</td>\n",
       "      <td>oldschool</td>\n",
       "      <td>Really. !!  NYSEG needs leadership. Is this yo...</td>\n",
       "      <td>2018-03-05</td>\n",
       "      <td>really nyseg needs leadership first power outa...</td>\n",
       "      <td>1</td>\n",
       "      <td>42.375944</td>\n",
       "      <td>-71.203094</td>\n",
       "    </tr>\n",
       "    <tr>\n",
       "      <td>2</td>\n",
       "      <td>Deanna</td>\n",
       "      <td>Aaaand they left without doing anything. The o...</td>\n",
       "      <td>2018-03-05</td>\n",
       "      <td>aaaand left without anything outage map longer...</td>\n",
       "      <td>1</td>\n",
       "      <td>42.361009</td>\n",
       "      <td>-71.150891</td>\n",
       "    </tr>\n",
       "    <tr>\n",
       "      <td>3</td>\n",
       "      <td>Rose</td>\n",
       "      <td>Power Outage waste: \\n  school cafeteria where...</td>\n",
       "      <td>2018-03-05</td>\n",
       "      <td>power outage waste school cafeteria line dance...</td>\n",
       "      <td>1</td>\n",
       "      <td>42.332771</td>\n",
       "      <td>-71.175588</td>\n",
       "    </tr>\n",
       "    <tr>\n",
       "      <td>4</td>\n",
       "      <td>LocoMoco Guy</td>\n",
       "      <td>Tried calling the toll free number. No chance ...</td>\n",
       "      <td>2018-03-05</td>\n",
       "      <td>tried calling toll free number chance talk liv...</td>\n",
       "      <td>1</td>\n",
       "      <td>42.348956</td>\n",
       "      <td>-71.006838</td>\n",
       "    </tr>\n",
       "    <tr>\n",
       "      <td>...</td>\n",
       "      <td>...</td>\n",
       "      <td>...</td>\n",
       "      <td>...</td>\n",
       "      <td>...</td>\n",
       "      <td>...</td>\n",
       "      <td>...</td>\n",
       "      <td>...</td>\n",
       "    </tr>\n",
       "    <tr>\n",
       "      <td>1054</td>\n",
       "      <td>[Tity Bear]</td>\n",
       "      <td>Tfw there's a company-wide network outage and ...</td>\n",
       "      <td>2017-07-21</td>\n",
       "      <td>tfw company wide network outage work coming al...</td>\n",
       "      <td>0</td>\n",
       "      <td>42.320828</td>\n",
       "      <td>-71.034768</td>\n",
       "    </tr>\n",
       "    <tr>\n",
       "      <td>1055</td>\n",
       "      <td>Abha Azad</td>\n",
       "      <td>#AirtelWoes: for over 6 hours today, no servic...</td>\n",
       "      <td>2018-08-23</td>\n",
       "      <td>airtelwoes 6 hours today service mobile sim th...</td>\n",
       "      <td>0</td>\n",
       "      <td>42.256383</td>\n",
       "      <td>-71.078822</td>\n",
       "    </tr>\n",
       "    <tr>\n",
       "      <td>1056</td>\n",
       "      <td>Whitney</td>\n",
       "      <td>The power outage ruined my motivation to do ho...</td>\n",
       "      <td>2018-02-20</td>\n",
       "      <td>power outage ruined motivation homework got ho...</td>\n",
       "      <td>0</td>\n",
       "      <td>42.266296</td>\n",
       "      <td>-71.092543</td>\n",
       "    </tr>\n",
       "    <tr>\n",
       "      <td>1057</td>\n",
       "      <td>Michele Rion</td>\n",
       "      <td>What the heck @AT&amp;T no service in Fort Worth! ...</td>\n",
       "      <td>2014-09-24</td>\n",
       "      <td>heck service fort worth phone text nothing out...</td>\n",
       "      <td>0</td>\n",
       "      <td>42.289356</td>\n",
       "      <td>-71.154900</td>\n",
       "    </tr>\n",
       "    <tr>\n",
       "      <td>1058</td>\n",
       "      <td>Tri-City Sales</td>\n",
       "      <td>Power outage? No problem. With @Frigidaire's A...</td>\n",
       "      <td>2016-03-31</td>\n",
       "      <td>power outage problem frigidaire arcticlock wal...</td>\n",
       "      <td>0</td>\n",
       "      <td>42.282105</td>\n",
       "      <td>-71.024734</td>\n",
       "    </tr>\n",
       "  </tbody>\n",
       "</table>\n",
       "<p>1059 rows × 7 columns</p>\n",
       "</div>"
      ],
      "text/plain": [
       "               username                                               text  \\\n",
       "0     Waldemar Gonzalez  No work for a week due to power outage, trip t...   \n",
       "1             oldschool  Really. !!  NYSEG needs leadership. Is this yo...   \n",
       "2                Deanna  Aaaand they left without doing anything. The o...   \n",
       "3                  Rose  Power Outage waste: \\n  school cafeteria where...   \n",
       "4          LocoMoco Guy  Tried calling the toll free number. No chance ...   \n",
       "...                 ...                                                ...   \n",
       "1054        [Tity Bear]  Tfw there's a company-wide network outage and ...   \n",
       "1055          Abha Azad  #AirtelWoes: for over 6 hours today, no servic...   \n",
       "1056            Whitney  The power outage ruined my motivation to do ho...   \n",
       "1057       Michele Rion  What the heck @AT&T no service in Fort Worth! ...   \n",
       "1058     Tri-City Sales  Power outage? No problem. With @Frigidaire's A...   \n",
       "\n",
       "            date                                         clean_text  target  \\\n",
       "0     2018-03-05  work week due power outage trip miami sounds l...       1   \n",
       "1     2018-03-05  really nyseg needs leadership first power outa...       1   \n",
       "2     2018-03-05  aaaand left without anything outage map longer...       1   \n",
       "3     2018-03-05  power outage waste school cafeteria line dance...       1   \n",
       "4     2018-03-05  tried calling toll free number chance talk liv...       1   \n",
       "...          ...                                                ...     ...   \n",
       "1054  2017-07-21  tfw company wide network outage work coming al...       0   \n",
       "1055  2018-08-23  airtelwoes 6 hours today service mobile sim th...       0   \n",
       "1056  2018-02-20  power outage ruined motivation homework got ho...       0   \n",
       "1057  2014-09-24  heck service fort worth phone text nothing out...       0   \n",
       "1058  2016-03-31  power outage problem frigidaire arcticlock wal...       0   \n",
       "\n",
       "            lat       long  \n",
       "0     42.351035 -71.098957  \n",
       "1     42.375944 -71.203094  \n",
       "2     42.361009 -71.150891  \n",
       "3     42.332771 -71.175588  \n",
       "4     42.348956 -71.006838  \n",
       "...         ...        ...  \n",
       "1054  42.320828 -71.034768  \n",
       "1055  42.256383 -71.078822  \n",
       "1056  42.266296 -71.092543  \n",
       "1057  42.289356 -71.154900  \n",
       "1058  42.282105 -71.024734  \n",
       "\n",
       "[1059 rows x 7 columns]"
      ]
     },
     "execution_count": 30,
     "metadata": {},
     "output_type": "execute_result"
    }
   ],
   "source": [
    "df = pd.read_csv('../datasets/clean_tweets.csv')\n",
    "df"
   ]
  },
  {
   "cell_type": "markdown",
   "metadata": {},
   "source": [
    "# PreProcessing"
   ]
  },
  {
   "cell_type": "code",
   "execution_count": 9,
   "metadata": {},
   "outputs": [
    {
     "data": {
      "text/plain": [
       "username      0\n",
       "text          0\n",
       "date          0\n",
       "clean_text    0\n",
       "target        0\n",
       "lat           0\n",
       "long          0\n",
       "dtype: int64"
      ]
     },
     "execution_count": 9,
     "metadata": {},
     "output_type": "execute_result"
    }
   ],
   "source": [
    "df.isnull().sum()"
   ]
  },
  {
   "cell_type": "code",
   "execution_count": 10,
   "metadata": {},
   "outputs": [],
   "source": [
    "df.dropna(how='any',inplace=True)"
   ]
  },
  {
   "cell_type": "code",
   "execution_count": 11,
   "metadata": {},
   "outputs": [
    {
     "data": {
      "text/plain": [
       "username      0\n",
       "text          0\n",
       "date          0\n",
       "clean_text    0\n",
       "target        0\n",
       "lat           0\n",
       "long          0\n",
       "dtype: int64"
      ]
     },
     "execution_count": 11,
     "metadata": {},
     "output_type": "execute_result"
    }
   ],
   "source": [
    "df.isnull().sum()"
   ]
  },
  {
   "cell_type": "code",
   "execution_count": 12,
   "metadata": {},
   "outputs": [
    {
     "data": {
      "text/plain": [
       "(1059, 7)"
      ]
     },
     "execution_count": 12,
     "metadata": {},
     "output_type": "execute_result"
    }
   ],
   "source": [
    "df.shape"
   ]
  },
  {
   "cell_type": "code",
   "execution_count": 13,
   "metadata": {},
   "outputs": [],
   "source": [
    "X = df['clean_text']\n",
    "y=df['target']\n",
    "\n",
    "X_train, X_test, y_train, y_test = train_test_split(X, y, random_state = 42, test_size = 0.3, stratify = y)"
   ]
  },
  {
   "cell_type": "code",
   "execution_count": 14,
   "metadata": {},
   "outputs": [],
   "source": [
    "#Keep a vectorized DF for the records\n",
    "cvec = CountVectorizer(max_df= 0.9,min_df=0.0012,ngram_range=(1,1))\n",
    "cvec.fit(X_train)\n",
    "DF = cvec.transform(X_train)\n",
    "DF = pd.DataFrame(DF.toarray(),\n",
    "                          columns=cvec.get_feature_names())"
   ]
  },
  {
   "cell_type": "code",
   "execution_count": 15,
   "metadata": {},
   "outputs": [
    {
     "data": {
      "text/plain": [
       "(741, 3505)"
      ]
     },
     "execution_count": 15,
     "metadata": {},
     "output_type": "execute_result"
    }
   ],
   "source": [
    "DF.shape"
   ]
  },
  {
   "cell_type": "code",
   "execution_count": 16,
   "metadata": {},
   "outputs": [],
   "source": [
    "DF.to_csv('../datasets/countvec_words.csv')"
   ]
  },
  {
   "cell_type": "markdown",
   "metadata": {},
   "source": [
    "# Model Set Up"
   ]
  },
  {
   "cell_type": "code",
   "execution_count": 17,
   "metadata": {},
   "outputs": [
    {
     "data": {
      "text/plain": [
       "Pipeline(memory=None,\n",
       "         steps=[('vectorizer',\n",
       "                 CountVectorizer(analyzer='word', binary=False,\n",
       "                                 decode_error='strict',\n",
       "                                 dtype=<class 'numpy.int64'>, encoding='utf-8',\n",
       "                                 input='content', lowercase=True, max_df=0.9,\n",
       "                                 max_features=None, min_df=0.0012,\n",
       "                                 ngram_range=(1, 1), preprocessor=None,\n",
       "                                 stop_words=None, strip_accents=None,\n",
       "                                 token_pattern='(?u)\\\\b\\\\w\\\\w+\\\\b',\n",
       "                                 tokenizer=None, vocabulary=None)),\n",
       "                ('model',\n",
       "                 LogisticRegression(C=3, class_weight=None, dual=False,\n",
       "                                    fit_intercept=True, intercept_scaling=1,\n",
       "                                    l1_ratio=None, max_iter=50,\n",
       "                                    multi_class='warn', n_jobs=None,\n",
       "                                    penalty='l2', random_state=None,\n",
       "                                    solver='warn', tol=0.0001, verbose=0,\n",
       "                                    warm_start=False))],\n",
       "         verbose=False)"
      ]
     },
     "execution_count": 17,
     "metadata": {},
     "output_type": "execute_result"
    }
   ],
   "source": [
    "# Define Pipeline\n",
    "pipe = Pipeline(steps = [('vectorizer', CountVectorizer()),     # first tuple is for first step: vectorizer\n",
    "                         ('model', LogisticRegression())        # second tuple is for second step: model\n",
    "                        ])    \n",
    "\n",
    "# Construct Grid Parameters\n",
    "hyperparams = {'vectorizer__ngram_range': [(1,1), (2,2), (1,2)],\n",
    "               'vectorizer__max_df': [0.9, 0.8, 1],\n",
    "               'vectorizer__min_df':[0.0012],\n",
    "\n",
    "               'model__penalty': ['l1', 'l2'],\n",
    "               'model__C': [0.1, 1, 3, 10],\n",
    "               'model__max_iter':[50,100,150]\n",
    "            \n",
    "              }\n",
    "\n",
    " # Perform Grid Search\n",
    "gs = GridSearchCV(pipe, # pipeline object replaces what we usually had as empty model class\n",
    "                 param_grid=hyperparams,\n",
    "                 cv = 3,\n",
    "                 scoring = 'accuracy')\n",
    "results = gs.fit(X_train, y_train)\n",
    "\n",
    "# Get best params\n",
    "results.best_estimator_"
   ]
  },
  {
   "cell_type": "code",
   "execution_count": 18,
   "metadata": {
    "scrolled": true
   },
   "outputs": [
    {
     "name": "stdout",
     "output_type": "stream",
     "text": [
      "Best TRAIN accuracy: 0.9487\n",
      "Best TEST set accuracy: 0.9465\n"
     ]
    },
    {
     "data": {
      "text/plain": [
       "{'model__C': 3,\n",
       " 'model__max_iter': 50,\n",
       " 'model__penalty': 'l2',\n",
       " 'vectorizer__max_df': 0.9,\n",
       " 'vectorizer__min_df': 0.0012,\n",
       " 'vectorizer__ngram_range': (1, 1)}"
      ]
     },
     "execution_count": 18,
     "metadata": {},
     "output_type": "execute_result"
    }
   ],
   "source": [
    "vectorizer_params = results.best_estimator_.steps[0][1].get_params()\n",
    "model_params = results.best_estimator_.steps[1][1].get_params()\n",
    "\n",
    "# Get score\n",
    "train_score = results.best_score_\n",
    "print('Best TRAIN accuracy: {:.4f}'.format(train_score))\n",
    "test_score = results.score(X_test, y_test)\n",
    "print('Best TEST set accuracy: {:.4f}'.format(test_score))\n",
    "results.best_params_"
   ]
  },
  {
   "cell_type": "code",
   "execution_count": 19,
   "metadata": {},
   "outputs": [],
   "source": [
    "pipe = Pipeline(steps = [('cv', CountVectorizer(max_df= 0.9,min_df=0.001,ngram_range=(1,1))),\n",
    "                         ('model', LogisticRegression(C=0.1,max_iter=50,penalty='l1')),     \n",
    "                        ])    "
   ]
  },
  {
   "cell_type": "markdown",
   "metadata": {},
   "source": [
    "# Model Evaluation"
   ]
  },
  {
   "cell_type": "code",
   "execution_count": 20,
   "metadata": {},
   "outputs": [],
   "source": [
    "#Get predictions and probabilities\n",
    "results = pipe.fit(X_train, y_train);\n",
    "pred=pipe.predict(X_test)\n",
    "pred_proba=pipe.predict_proba(X_test)"
   ]
  },
  {
   "cell_type": "code",
   "execution_count": 21,
   "metadata": {},
   "outputs": [],
   "source": [
    "#Confusion Matrix\n",
    "cm=confusion_matrix(y_test, pred)"
   ]
  },
  {
   "cell_type": "code",
   "execution_count": 22,
   "metadata": {},
   "outputs": [],
   "source": [
    "import matplotlib.pyplot as plt\n",
    "import seaborn as sns\n",
    "ax= plt.subplot()\n",
    "sns.heatmap(cm, annot=True, ax = ax, fmt=\".1f\", cmap='YlOrBr', cbar=False); \n",
    "# labels, title and ticks\n",
    "ax.set_xlabel('Predicted labels');\n",
    "ax.set_ylabel('True labels'); \n",
    "ax.set_title('Confusion Matrix'); \n",
    "ax.xaxis.set_ticklabels(['No Power Outage', 'Power Outage']); ax.yaxis.set_ticklabels(['No Power Outage', 'Power Outage']);"
   ]
  },
  {
   "cell_type": "code",
   "execution_count": 23,
   "metadata": {},
   "outputs": [
    {
     "name": "stdout",
     "output_type": "stream",
     "text": [
      "              precision    recall  f1-score   support\n",
      "\n",
      "           0       0.94      1.00      0.97       300\n",
      "           1       0.00      0.00      0.00        18\n",
      "\n",
      "    accuracy                           0.94       318\n",
      "   macro avg       0.47      0.50      0.49       318\n",
      "weighted avg       0.89      0.94      0.92       318\n",
      "\n"
     ]
    }
   ],
   "source": [
    "#Classification Report\n",
    "from sklearn.metrics import classification_report\n",
    "thresh = .7\n",
    "print(classification_report(y_test, pred_proba[:, 1]>thresh))"
   ]
  },
  {
   "cell_type": "code",
   "execution_count": 24,
   "metadata": {},
   "outputs": [
    {
     "name": "stdout",
     "output_type": "stream",
     "text": [
      "No Skill: ROC AUC=0.500\n",
      "Logistic: ROC AUC=0.596\n"
     ]
    },
    {
     "data": {
      "image/png": "[encoded data removed]",
      "text/plain": [
       "<Figure size 432x288 with 1 Axes>"
      ]
     },
     "metadata": {
      "needs_background": "light"
     },
     "output_type": "display_data"
    }
   ],
   "source": [
    "#ROC Curve\n",
    "from sklearn.metrics import roc_curve\n",
    "from sklearn.metrics import roc_auc_score\n",
    "\n",
    "ns_probs = [0 for _ in range(len(y_test))]\n",
    "\n",
    "pipe_probs = pipe.predict_proba(X_test)\n",
    "pipe_probs = pipe_probs[:, 1]\n",
    "ns_auc = roc_auc_score(y_test, ns_probs)\n",
    "pipe_auc = roc_auc_score(y_test, pipe_probs)\n",
    "\n",
    "# summarize scores\n",
    "print('No Skill: ROC AUC=%.3f' % (ns_auc))\n",
    "print('Logistic: ROC AUC=%.3f' % (pipe_auc))\n",
    "\n",
    "# calculate roc curves\n",
    "ns_fpr, ns_tpr, _ = roc_curve(y_test, ns_probs)\n",
    "pipe_fpr, pipe_tpr, _ = roc_curve(y_test, pipe_probs)\n",
    "\n",
    "# plot the roc curve for the model\n",
    "plt.plot(ns_fpr, ns_tpr, linestyle='--', label='Base')\n",
    "plt.plot(pipe_fpr, pipe_tpr, marker='.', label='LR')\n",
    "\n",
    "# axis labels\n",
    "plt.xlabel('False Positive Rate')\n",
    "plt.ylabel('True Positive Rate')\n",
    "\n",
    "# show the legend\n",
    "plt.legend()\n",
    "plt.title('ROC/AUC')\n",
    "\n",
    "# show the plot\n",
    "plt.show()"
   ]
  },
  {
   "cell_type": "code",
   "execution_count": 25,
   "metadata": {},
   "outputs": [],
   "source": [
    "#Saving predictions\n",
    "pred_train=pd.DataFrame(pipe.predict(X_train))\n",
    "pred_train['origin']='train'\n",
    "pred_test=pd.DataFrame(pipe.predict(X_test))\n",
    "pred_test['origin']='test'"
   ]
  },
  {
   "cell_type": "code",
   "execution_count": 27,
   "metadata": {},
   "outputs": [
    {
     "data": {
      "text/html": [
       "<div>\n",
       "<style scoped>\n",
       "    .dataframe tbody tr th:only-of-type {\n",
       "        vertical-align: middle;\n",
       "    }\n",
       "\n",
       "    .dataframe tbody tr th {\n",
       "        vertical-align: top;\n",
       "    }\n",
       "\n",
       "    .dataframe thead th {\n",
       "        text-align: right;\n",
       "    }\n",
       "</style>\n",
       "<table border=\"1\" class=\"dataframe\">\n",
       "  <thead>\n",
       "    <tr style=\"text-align: right;\">\n",
       "      <th></th>\n",
       "      <th>0</th>\n",
       "      <th>origin</th>\n",
       "    </tr>\n",
       "  </thead>\n",
       "  <tbody>\n",
       "    <tr>\n",
       "      <td>0</td>\n",
       "      <td>0</td>\n",
       "      <td>test</td>\n",
       "    </tr>\n",
       "    <tr>\n",
       "      <td>1</td>\n",
       "      <td>0</td>\n",
       "      <td>test</td>\n",
       "    </tr>\n",
       "    <tr>\n",
       "      <td>2</td>\n",
       "      <td>0</td>\n",
       "      <td>test</td>\n",
       "    </tr>\n",
       "    <tr>\n",
       "      <td>3</td>\n",
       "      <td>0</td>\n",
       "      <td>test</td>\n",
       "    </tr>\n",
       "    <tr>\n",
       "      <td>4</td>\n",
       "      <td>0</td>\n",
       "      <td>test</td>\n",
       "    </tr>\n",
       "    <tr>\n",
       "      <td>...</td>\n",
       "      <td>...</td>\n",
       "      <td>...</td>\n",
       "    </tr>\n",
       "    <tr>\n",
       "      <td>313</td>\n",
       "      <td>0</td>\n",
       "      <td>test</td>\n",
       "    </tr>\n",
       "    <tr>\n",
       "      <td>314</td>\n",
       "      <td>0</td>\n",
       "      <td>test</td>\n",
       "    </tr>\n",
       "    <tr>\n",
       "      <td>315</td>\n",
       "      <td>0</td>\n",
       "      <td>test</td>\n",
       "    </tr>\n",
       "    <tr>\n",
       "      <td>316</td>\n",
       "      <td>0</td>\n",
       "      <td>test</td>\n",
       "    </tr>\n",
       "    <tr>\n",
       "      <td>317</td>\n",
       "      <td>0</td>\n",
       "      <td>test</td>\n",
       "    </tr>\n",
       "  </tbody>\n",
       "</table>\n",
       "<p>318 rows × 2 columns</p>\n",
       "</div>"
      ],
      "text/plain": [
       "     0 origin\n",
       "0    0   test\n",
       "1    0   test\n",
       "2    0   test\n",
       "3    0   test\n",
       "4    0   test\n",
       "..  ..    ...\n",
       "313  0   test\n",
       "314  0   test\n",
       "315  0   test\n",
       "316  0   test\n",
       "317  0   test\n",
       "\n",
       "[318 rows x 2 columns]"
      ]
     },
     "execution_count": 27,
     "metadata": {},
     "output_type": "execute_result"
    }
   ],
   "source": [
    "pred_test"
   ]
  },
  {
   "cell_type": "code",
   "execution_count": 29,
   "metadata": {},
   "outputs": [
    {
     "ename": "AttributeError",
     "evalue": "'numpy.ndarray' object has no attribute 'index'",
     "output_type": "error",
     "traceback": [
      "\u001b[0;31m---------------------------------------------------------------------------\u001b[0m",
      "\u001b[0;31mAttributeError\u001b[0m                            Traceback (most recent call last)",
      "\u001b[0;32m<ipython-input-29-c67c1916aad7>\u001b[0m in \u001b[0;36m<module>\u001b[0;34m\u001b[0m\n\u001b[0;32m----> 1\u001b[0;31m \u001b[0mpred_test\u001b[0m\u001b[0;34m[\u001b[0m\u001b[0;34m'index'\u001b[0m\u001b[0;34m]\u001b[0m\u001b[0;34m=\u001b[0m \u001b[0mpred\u001b[0m\u001b[0;34m.\u001b[0m\u001b[0mindex\u001b[0m\u001b[0;34m\u001b[0m\u001b[0;34m\u001b[0m\u001b[0m\n\u001b[0m",
      "\u001b[0;31mAttributeError\u001b[0m: 'numpy.ndarray' object has no attribute 'index'"
     ]
    }
   ],
   "source": [
    "pred_test['index']= "
   ]
  },
  {
   "cell_type": "code",
   "execution_count": null,
   "metadata": {},
   "outputs": [],
   "source": [
    "pred_test.to_csv('../datasets/preds_index.csv')"
   ]
  },
  {
   "cell_type": "code",
   "execution_count": null,
   "metadata": {},
   "outputs": [],
   "source": [
    "all_preds=pd.concat([pred_train,pred_test], axis=0,ignore_index=True)"
   ]
  },
  {
   "cell_type": "code",
   "execution_count": null,
   "metadata": {},
   "outputs": [],
   "source": [
    "all_preds.rename(columns={0:'preds','origin':'origin'},inplace=True)"
   ]
  },
  {
   "cell_type": "code",
   "execution_count": null,
   "metadata": {},
   "outputs": [],
   "source": [
    "pd.concat([df,all_preds]);"
   ]
  },
  {
   "cell_type": "code",
   "execution_count": null,
   "metadata": {},
   "outputs": [],
   "source": [
    "df.to_csv('../datasets/tweets_and_preds.csv')"
   ]
  }
 ],
 "metadata": {
  "kernelspec": {
   "display_name": "Python 3",
   "language": "python",
   "name": "python3"
  },
  "language_info": {
   "codemirror_mode": {
    "name": "ipython",
    "version": 3
   },
   "file_extension": ".py",
   "mimetype": "text/x-python",
   "name": "python",
   "nbconvert_exporter": "python",
   "pygments_lexer": "ipython3",
   "version": "3.7.3"
  },
  "toc": {
   "base_numbering": 1,
   "nav_menu": {},
   "number_sections": true,
   "sideBar": true,
   "skip_h1_title": false,
   "title_cell": "Table of Contents",
   "title_sidebar": "Contents",
   "toc_cell": false,
   "toc_position": {},
   "toc_section_display": true,
   "toc_window_display": false
  }
 },
 "nbformat": 4,
 "nbformat_minor": 2
}
